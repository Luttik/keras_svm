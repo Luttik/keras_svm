{
 "cells": [
  {
   "cell_type": "code",
   "execution_count": 9,
   "metadata": {},
   "outputs": [],
   "source": [
    "import plotly\n",
    "import plotly.plotly as py\n",
    "import plotly.graph_objs as go\n",
    "import json\n",
    "import numpy as np"
   ]
  },
  {
   "cell_type": "code",
   "execution_count": 10,
   "metadata": {},
   "outputs": [],
   "source": [
    "results_json = json.load(open('results/Fashion-MNIST/performance_combined.json'))"
   ]
  },
  {
   "cell_type": "code",
   "execution_count": 11,
   "metadata": {},
   "outputs": [
    {
     "data": {
      "text/plain": [
       "{'with_svm@-2': [[0.8779, 0.8799, 0.8743, 0.8794, 0.8876],\n",
       "  [0.8947, 0.8943, 0.8937, 0.8946, 0.8992],\n",
       "  [0.9037, 0.9013, 0.902, 0.9012, 0.9077],\n",
       "  [0.9061, 0.907, 0.9039, 0.9044, 0.912],\n",
       "  [0.911, 0.9101, 0.9108, 0.9095, 0.9115],\n",
       "  [0.9137, 0.9114, 0.9113, 0.9138, 0.9109],\n",
       "  [0.9087, 0.9078, 0.9075, 0.9124, 0.9122],\n",
       "  [0.9128, 0.9137, 0.9107, 0.9127, 0.9145],\n",
       "  [0.9109, 0.9132, 0.9103, 0.9126, 0.9122],\n",
       "  [0.9116, 0.9146, 0.912, 0.9128, 0.9123]],\n",
       " 'with_svm@-3': [[0.8973, 0.8957, 0.8929, 0.8922, 0.8999],\n",
       "  [0.9043, 0.9004, 0.9007, 0.901, 0.9046],\n",
       "  [0.905, 0.9042, 0.9035, 0.9026, 0.9097],\n",
       "  [0.911, 0.9052, 0.908, 0.9046, 0.9095],\n",
       "  [0.9104, 0.9103, 0.9056, 0.9059, 0.9111],\n",
       "  [0.9107, 0.9109, 0.9078, 0.9102, 0.9115],\n",
       "  [0.9112, 0.9109, 0.9083, 0.9081, 0.9116],\n",
       "  [0.9121, 0.9112, 0.9052, 0.908, 0.912],\n",
       "  [0.9117, 0.9114, 0.909, 0.9114, 0.9121],\n",
       "  [0.9118, 0.9128, 0.9072, 0.9119, 0.9109]],\n",
       " 'without_svm': [[0.8581, 0.8444, 0.8517, 0.8536, 0.8667],\n",
       "  [0.8506, 0.8788, 0.8701, 0.8766, 0.8758],\n",
       "  [0.8879, 0.8809, 0.8958, 0.8935, 0.8939],\n",
       "  [0.8987, 0.8927, 0.8759, 0.8707, 0.9006],\n",
       "  [0.9048, 0.9043, 0.901, 0.8994, 0.903],\n",
       "  [0.9031, 0.9091, 0.9015, 0.9079, 0.8985],\n",
       "  [0.9064, 0.9024, 0.9015, 0.9052, 0.9041],\n",
       "  [0.9076, 0.9059, 0.8979, 0.9005, 0.9062],\n",
       "  [0.8957, 0.9057, 0.9033, 0.909, 0.8882],\n",
       "  [0.9061, 0.9053, 0.9049, 0.9099, 0.9062]]}"
      ]
     },
     "execution_count": 11,
     "metadata": {},
     "output_type": "execute_result"
    }
   ],
   "source": [
    "results = {key:[[results_json[j][key][i] for j in range(len(results_json))] for i in range(len(results_json[0][key]))]\n",
    "          for key in results_json[0]}\n",
    "results"
   ]
  },
  {
   "cell_type": "code",
   "execution_count": 12,
   "metadata": {},
   "outputs": [
    {
     "data": {
      "text/html": [
       "<iframe id=\"igraph\" scrolling=\"no\" style=\"border:none;\" seamless=\"seamless\" src=\"https://plot.ly/~luttik/16.embed\" height=\"525px\" width=\"100%\"></iframe>"
      ],
      "text/plain": [
       "<plotly.tools.PlotlyDisplay object>"
      ]
     },
     "execution_count": 12,
     "metadata": {},
     "output_type": "execute_result"
    }
   ],
   "source": [
    "plotly.tools.set_credentials_file(username='luttik', api_key='6p0E4ba6sVIgV575o3uX')\n",
    "\n",
    "data = [\n",
    "    go.Scatter(\n",
    "        x=list(range(10)),\n",
    "        y=[np.mean(results[key][epoch]) for epoch in range(len(results[key]))],\n",
    "        name=key,\n",
    "        error_y=dict(\n",
    "            type='data',\n",
    "            array=[np.std(results[key][epoch]) for epoch in range(len(results[key]))],\n",
    "            visible=True\n",
    "        )\n",
    "    )\n",
    "    for key in results\n",
    "]\n",
    "\n",
    "layout = dict(title = 'Accuracy on the Fashion-MNIST dataset',\n",
    "              xaxis = dict(title = 'Epoch'),\n",
    "              yaxis = dict(title = 'Accuracy'),\n",
    "              )\n",
    "\n",
    "py.iplot(data, filename='results-svm-replacement-fashion', layout=layout)"
   ]
  }
 ],
 "metadata": {
  "kernelspec": {
   "display_name": "Python 3",
   "language": "python",
   "name": "python3"
  },
  "language_info": {
   "codemirror_mode": {
    "name": "ipython",
    "version": 3
   },
   "file_extension": ".py",
   "mimetype": "text/x-python",
   "name": "python",
   "nbconvert_exporter": "python",
   "pygments_lexer": "ipython3",
   "version": "3.6.4"
  }
 },
 "nbformat": 4,
 "nbformat_minor": 2
}

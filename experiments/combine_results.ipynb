{
 "cells": [
  {
   "cell_type": "code",
   "execution_count": 1,
   "metadata": {},
   "outputs": [],
   "source": [
    "import plotly\n",
    "import plotly.plotly as py\n",
    "import plotly.graph_objs as go\n",
    "import json\n",
    "import numpy as np"
   ]
  },
  {
   "cell_type": "code",
   "execution_count": 8,
   "metadata": {},
   "outputs": [],
   "source": [
    "results_json = json.load(open('results/MNIST/performance_combined.json'))"
   ]
  },
  {
   "cell_type": "code",
   "execution_count": 9,
   "metadata": {},
   "outputs": [
    {
     "data": {
      "text/plain": [
       "{'with_svm@-2': [[0.9898, 0.9891, 0.9893, 0.9897, 0.9891],\n",
       "  [0.9912, 0.9902, 0.9905, 0.9912, 0.9905],\n",
       "  [0.9929, 0.9918, 0.9921, 0.9919, 0.9916],\n",
       "  [0.9926, 0.9927, 0.9929, 0.9923, 0.9924],\n",
       "  [0.9925, 0.9926, 0.9932, 0.9913, 0.992],\n",
       "  [0.9922, 0.9935, 0.9935, 0.9923, 0.9927],\n",
       "  [0.9924, 0.993, 0.9935, 0.992, 0.9923],\n",
       "  [0.9928, 0.9939, 0.9935, 0.9921, 0.9935],\n",
       "  [0.9919, 0.9927, 0.9921, 0.9931, 0.9927],\n",
       "  [0.9926, 0.9933, 0.9928, 0.9927, 0.9935]],\n",
       " 'with_svm@-3': [[0.9912, 0.9912, 0.9906, 0.9907, 0.9903],\n",
       "  [0.9916, 0.9917, 0.9909, 0.992, 0.9917],\n",
       "  [0.9926, 0.9918, 0.992, 0.9929, 0.9927],\n",
       "  [0.9921, 0.9935, 0.9934, 0.9922, 0.993],\n",
       "  [0.9925, 0.9926, 0.9929, 0.9926, 0.9933],\n",
       "  [0.9931, 0.9933, 0.9938, 0.993, 0.9933],\n",
       "  [0.9931, 0.9936, 0.9927, 0.9927, 0.9923],\n",
       "  [0.9931, 0.9932, 0.9935, 0.9931, 0.9931],\n",
       "  [0.9935, 0.9935, 0.9934, 0.993, 0.9928],\n",
       "  [0.9927, 0.9932, 0.9937, 0.9931, 0.9939]],\n",
       " 'without_svm': [[0.9873, 0.9836, 0.9823, 0.9849, 0.9869],\n",
       "  [0.9897, 0.9847, 0.9894, 0.9895, 0.9879],\n",
       "  [0.9905, 0.9909, 0.9916, 0.9866, 0.9918],\n",
       "  [0.99, 0.9908, 0.9908, 0.9896, 0.991],\n",
       "  [0.9925, 0.9906, 0.9906, 0.9916, 0.9902],\n",
       "  [0.9932, 0.9898, 0.9929, 0.9915, 0.9891],\n",
       "  [0.9901, 0.9922, 0.9934, 0.991, 0.9921],\n",
       "  [0.9912, 0.9905, 0.9927, 0.9928, 0.9924],\n",
       "  [0.99, 0.9925, 0.9919, 0.9924, 0.9924],\n",
       "  [0.9907, 0.9906, 0.9921, 0.9917, 0.9921]]}"
      ]
     },
     "execution_count": 9,
     "metadata": {},
     "output_type": "execute_result"
    }
   ],
   "source": [
    "results = {key:[[results_json[j][key][i] for j in range(len(results_json))] for i in range(len(results_json[0][key]))]\n",
    "          for key in results_json[0]}\n",
    "results"
   ]
  },
  {
   "cell_type": "code",
   "execution_count": 10,
   "metadata": {},
   "outputs": [
    {
     "data": {
      "text/html": [
       "<iframe id=\"igraph\" scrolling=\"no\" style=\"border:none;\" seamless=\"seamless\" src=\"https://plot.ly/~luttik/2.embed\" height=\"525px\" width=\"100%\"></iframe>"
      ],
      "text/plain": [
       "<plotly.tools.PlotlyDisplay object>"
      ]
     },
     "execution_count": 10,
     "metadata": {},
     "output_type": "execute_result"
    }
   ],
   "source": [
    "plotly.tools.set_credentials_file(username='luttik', api_key='6p0E4ba6sVIgV575o3uX')\n",
    "\n",
    "data = [\n",
    "    go.Scatter(\n",
    "        x=list(range(10)),\n",
    "        y=[np.mean(results[key][epoch]) for epoch in range(len(results[key]))],\n",
    "        name=key,\n",
    "        error_y=dict(\n",
    "            type='data',\n",
    "            array=[np.std(results[key][epoch]) for epoch in range(len(results[key]))],\n",
    "            visible=True\n",
    "        )\n",
    "    )\n",
    "    for key in results\n",
    "]\n",
    "\n",
    "layout = dict(title = 'Accuracy on the MNIST dataset',\n",
    "              xaxis = dict(title = 'Epoch'),\n",
    "              yaxis = dict(title = 'Accuracy'),\n",
    "              )\n",
    "\n",
    "py.iplot(data, filename='results-svm-replacement', layout=layout)"
   ]
  }
 ],
 "metadata": {
  "kernelspec": {
   "display_name": "Python 3",
   "language": "python",
   "name": "python3"
  },
  "language_info": {
   "codemirror_mode": {
    "name": "ipython",
    "version": 3
   },
   "file_extension": ".py",
   "mimetype": "text/x-python",
   "name": "python",
   "nbconvert_exporter": "python",
   "pygments_lexer": "ipython3",
   "version": "3.6.4"
  }
 },
 "nbformat": 4,
 "nbformat_minor": 2
}

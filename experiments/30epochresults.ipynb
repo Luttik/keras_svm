{
 "cells": [
  {
   "cell_type": "code",
   "execution_count": 1,
   "metadata": {},
   "outputs": [],
   "source": [
    "import plotly\n",
    "import plotly.plotly as py\n",
    "import plotly.graph_objs as go\n",
    "import json\n",
    "import numpy as np"
   ]
  },
  {
   "cell_type": "code",
   "execution_count": 2,
   "metadata": {},
   "outputs": [],
   "source": [
    "data = json.load(open('results/MNIST/performance_30epochs_combined.json'))\n",
    "history = [x['history'] for x in data]\n",
    "performances = [x['performance'] for x in data]"
   ]
  },
  {
   "cell_type": "code",
   "execution_count": 4,
   "metadata": {},
   "outputs": [
    {
     "data": {
      "text/plain": [
       "(array([[0.94743333, 0.94448333, 0.94555   , 0.9476    , 0.9471    ],\n",
       "        [0.9853    , 0.98511667, 0.98516667, 0.98528333, 0.98583333],\n",
       "        [0.98936667, 0.99013333, 0.99      , 0.99033333, 0.98983333],\n",
       "        [0.99188333, 0.99286667, 0.9922    , 0.9926    , 0.99235   ],\n",
       "        [0.99345   , 0.99396667, 0.9939    , 0.99435   , 0.9941    ],\n",
       "        [0.99508333, 0.99548333, 0.99503333, 0.99541667, 0.99521667],\n",
       "        [0.99598333, 0.99593333, 0.9957    , 0.99635   , 0.9963    ],\n",
       "        [0.99655   , 0.99675   , 0.9967    , 0.99688333, 0.99675   ],\n",
       "        [0.99718333, 0.99715   , 0.99726667, 0.99751667, 0.99725   ],\n",
       "        [0.99716667, 0.99738333, 0.99766667, 0.99785   , 0.99778333],\n",
       "        [0.99795   , 0.99775   , 0.9979    , 0.99805   , 0.99793333],\n",
       "        [0.99818333, 0.99835   , 0.99823333, 0.99825   , 0.99841667],\n",
       "        [0.99816667, 0.99846667, 0.99841667, 0.99846667, 0.99838333],\n",
       "        [0.99826667, 0.99858333, 0.9986    , 0.9988    , 0.99871667],\n",
       "        [0.99866667, 0.99891667, 0.99863333, 0.99873333, 0.99888333],\n",
       "        [0.99856667, 0.99886667, 0.99886667, 0.999     , 0.99865   ],\n",
       "        [0.99885   , 0.999     , 0.99878333, 0.99905   , 0.99881667],\n",
       "        [0.99891667, 0.99881667, 0.99883333, 0.99918333, 0.99911667],\n",
       "        [0.99903333, 0.99916667, 0.99895   , 0.99906667, 0.99918333],\n",
       "        [0.99908333, 0.9994    , 0.99903333, 0.99928333, 0.9991    ],\n",
       "        [0.99911667, 0.99896667, 0.99918333, 0.99933333, 0.9992    ],\n",
       "        [0.99925   , 0.99911667, 0.9992    , 0.99875   , 0.9992    ],\n",
       "        [0.99931667, 0.99916667, 0.99928333, 0.99915   , 0.99938333],\n",
       "        [0.99928333, 0.99938333, 0.99925   , 0.99956667, 0.99926667],\n",
       "        [0.99933333, 0.99953333, 0.99923333, 0.99921667, 0.99926667],\n",
       "        [0.99916667, 0.99946667, 0.99908333, 0.99938333, 0.99946667],\n",
       "        [0.99931667, 0.99936667, 0.99941667, 0.99941667, 0.99928333],\n",
       "        [0.99935   , 0.99965   , 0.99958333, 0.99906667, 0.99935   ],\n",
       "        [0.99945   , 0.9994    , 0.99953333, 0.99926667, 0.99935   ],\n",
       "        [0.99953333, 0.99936667, 0.99935   , 0.99955   , 0.99938333]]),\n",
       " array([[0.981 , 0.9844, 0.9848, 0.9743, 0.9843],\n",
       "        [0.9902, 0.9881, 0.9878, 0.9881, 0.9892],\n",
       "        [0.9916, 0.9916, 0.9886, 0.9894, 0.9915],\n",
       "        [0.9847, 0.9893, 0.9912, 0.9909, 0.9915],\n",
       "        [0.9933, 0.993 , 0.9903, 0.9913, 0.9916],\n",
       "        [0.9897, 0.9919, 0.9857, 0.9933, 0.9917],\n",
       "        [0.9917, 0.9919, 0.9917, 0.9915, 0.9923],\n",
       "        [0.9891, 0.992 , 0.9911, 0.9914, 0.9932],\n",
       "        [0.9929, 0.9911, 0.9904, 0.9912, 0.9911],\n",
       "        [0.9925, 0.9935, 0.9927, 0.9932, 0.9921],\n",
       "        [0.9906, 0.9923, 0.9917, 0.9917, 0.9892],\n",
       "        [0.9919, 0.9938, 0.9919, 0.994 , 0.9917],\n",
       "        [0.993 , 0.9933, 0.9917, 0.9936, 0.9928],\n",
       "        [0.9891, 0.9931, 0.991 , 0.9922, 0.9922],\n",
       "        [0.993 , 0.9928, 0.9908, 0.9924, 0.9918],\n",
       "        [0.993 , 0.9922, 0.9943, 0.9943, 0.9921],\n",
       "        [0.9933, 0.9934, 0.992 , 0.9935, 0.9919],\n",
       "        [0.9916, 0.9924, 0.9926, 0.9925, 0.9933],\n",
       "        [0.9923, 0.9929, 0.9918, 0.9935, 0.9918],\n",
       "        [0.9923, 0.9931, 0.993 , 0.9935, 0.9916],\n",
       "        [0.9922, 0.9925, 0.9914, 0.9896, 0.9923],\n",
       "        [0.9919, 0.9922, 0.9927, 0.993 , 0.9925],\n",
       "        [0.9915, 0.9928, 0.9924, 0.9933, 0.9914],\n",
       "        [0.993 , 0.9935, 0.9931, 0.9928, 0.9922],\n",
       "        [0.9917, 0.9935, 0.9926, 0.9921, 0.9916],\n",
       "        [0.9913, 0.9937, 0.993 , 0.9922, 0.9921],\n",
       "        [0.9933, 0.9932, 0.9908, 0.993 , 0.9916],\n",
       "        [0.9935, 0.9922, 0.9917, 0.9924, 0.9918],\n",
       "        [0.9933, 0.9918, 0.9937, 0.9916, 0.9934],\n",
       "        [0.9923, 0.9914, 0.9926, 0.9921, 0.9923]]))"
      ]
     },
     "execution_count": 4,
     "metadata": {},
     "output_type": "execute_result"
    }
   ],
   "source": [
    "train_accuracies = np.swapaxes(np.array([x['acc'] for x in history], dtype=float), 0, 1)\n",
    "test_accuracy    = np.swapaxes(np.array([x['val_acc'] for x in history], dtype=float), 0, 1)\n",
    "train_accuracies, test_accuracy"
   ]
  },
  {
   "cell_type": "code",
   "execution_count": 7,
   "metadata": {},
   "outputs": [
    {
     "data": {
      "text/html": [
       "<iframe id=\"igraph\" scrolling=\"no\" style=\"border:none;\" seamless=\"seamless\" src=\"https://plot.ly/~luttik/12.embed\" height=\"525px\" width=\"100%\"></iframe>"
      ],
      "text/plain": [
       "<plotly.tools.PlotlyDisplay object>"
      ]
     },
     "execution_count": 7,
     "metadata": {},
     "output_type": "execute_result"
    }
   ],
   "source": [
    "results = {\n",
    "    \"train_accuracies\": train_accuracies,\n",
    "    \"test_accuracy\": test_accuracy\n",
    "}\n",
    "\n",
    "data = [\n",
    "    go.Scatter(\n",
    "        x=list(range(30)),\n",
    "        y=[np.mean(results[key][epoch]) for epoch in range(len(results[key]))],\n",
    "        name=key,\n",
    "        error_y=dict(\n",
    "            type='data',\n",
    "            array=[np.std(results[key][epoch]) for epoch in range(len(results[key]))],\n",
    "            visible=True\n",
    "        )\n",
    "    )\n",
    "    for key in results\n",
    "]\n",
    "\n",
    "layout = dict(title = 'Accuracy on the Fashion-MNIST dataset 30-epochs',\n",
    "              xaxis = dict(title = 'Epoch'),\n",
    "              yaxis = dict(title = 'Accuracy'),\n",
    "              )\n",
    "\n",
    "py.iplot(data, filename='results-30epochs-mnist', layout=layout)"
   ]
  },
  {
   "cell_type": "code",
   "execution_count": null,
   "metadata": {},
   "outputs": [],
   "source": [
    "performances"
   ]
  },
  {
   "cell_type": "code",
   "execution_count": 6,
   "metadata": {},
   "outputs": [
    {
     "data": {
      "text/html": [
       "<iframe id=\"igraph\" scrolling=\"no\" style=\"border:none;\" seamless=\"seamless\" src=\"https://plot.ly/~luttik/10.embed\" height=\"525px\" width=\"100%\"></iframe>"
      ],
      "text/plain": [
       "<plotly.tools.PlotlyDisplay object>"
      ]
     },
     "execution_count": 6,
     "metadata": {},
     "output_type": "execute_result"
    }
   ],
   "source": [
    "plot_data = {\n",
    "    'Without SVM': test_accuracy[-1],\n",
    "    'SVM_@-2': [x['with_svm@-2'] for x in performances],\n",
    "    'SVM_@-3': [x['with_svm@-3'] for x in performances]\n",
    "}\n",
    "\n",
    "data = [\n",
    "    go.Box(\n",
    "        y=plot_data[key],\n",
    "        name=key,\n",
    "    ) for key in plot_data\n",
    "]\n",
    "\n",
    "layout = dict(title = 'Accuracy on the Fashion-MNIST dataset 30-epochs',\n",
    "              xaxis = dict(title = 'Epoch'),\n",
    "              yaxis = dict(title = 'Accuracy'),\n",
    "              )\n",
    "\n",
    "py.iplot(data, filename='performances-30epochs-mnist', layout=layout)"
   ]
  }
 ],
 "metadata": {
  "kernelspec": {
   "display_name": "Python 3",
   "language": "python",
   "name": "python3"
  },
  "language_info": {
   "codemirror_mode": {
    "name": "ipython",
    "version": 3
   },
   "file_extension": ".py",
   "mimetype": "text/x-python",
   "name": "python",
   "nbconvert_exporter": "python",
   "pygments_lexer": "ipython3",
   "version": "3.6.4"
  }
 },
 "nbformat": 4,
 "nbformat_minor": 2
}

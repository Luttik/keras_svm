{
 "cells": [
  {
   "cell_type": "markdown",
   "metadata": {
    "colab_type": "text",
    "id": "MvPDrkNDsyO9"
   },
   "source": []
  },
  {
   "cell_type": "code",
   "execution_count": 17,
   "metadata": {
    "colab": {
     "autoexec": {
      "startup": false,
      "wait_interval": 0
     },
     "base_uri": "https://localhost:8080/",
     "height": 170
    },
    "colab_type": "code",
    "executionInfo": {
     "elapsed": 3158,
     "status": "ok",
     "timestamp": 1525036626944,
     "user": {
      "displayName": "Daan Luttik",
      "photoUrl": "//lh3.googleusercontent.com/-CPv5nanSWKo/AAAAAAAAAAI/AAAAAAAAE3I/gkG30GZ_TJs/s50-c-k-no/photo.jpg",
      "userId": "106328974539959585216"
     },
     "user_tz": -120
    },
    "id": "GaBXH7PZiJsK",
    "outputId": "4c5b7299-ab38-4082-fa49-527be31d49a0"
   },
   "outputs": [
    {
     "name": "stdout",
     "output_type": "stream",
     "text": [
      "Looking in indexes: https://pypi.org/simple, https://legacy.pypi.org/simple\n",
      "Requirement already up-to-date: keras-svm in /usr/local/lib/python3.6/dist-packages (1.0.0b10)\n",
      "Requirement not upgraded as not directly required: scikit-learn in /usr/local/lib/python3.6/dist-packages (from keras-svm) (0.19.1)\n",
      "Requirement not upgraded as not directly required: keras in /usr/local/lib/python3.6/dist-packages (from keras-svm) (2.1.6)\n",
      "Requirement not upgraded as not directly required: pyyaml in /usr/local/lib/python3.6/dist-packages (from keras->keras-svm) (3.12)\n",
      "Requirement not upgraded as not directly required: h5py in /usr/local/lib/python3.6/dist-packages (from keras->keras-svm) (2.7.1)\n",
      "Requirement not upgraded as not directly required: six>=1.9.0 in /usr/local/lib/python3.6/dist-packages (from keras->keras-svm) (1.11.0)\n",
      "Requirement not upgraded as not directly required: numpy>=1.9.1 in /usr/local/lib/python3.6/dist-packages (from keras->keras-svm) (1.14.2)\n",
      "Requirement not upgraded as not directly required: scipy>=0.14 in /usr/local/lib/python3.6/dist-packages (from keras->keras-svm) (0.19.1)\n"
     ]
    }
   ],
   "source": [
    "# I've created a pip package containing a wrapper for the model.\n",
    "!pip install --upgrade keras-svm"
   ]
  },
  {
   "cell_type": "code",
   "execution_count": null,
   "metadata": {
    "colab": {
     "autoexec": {
      "startup": false,
      "wait_interval": 0
     }
    },
    "colab_type": "code",
    "id": "AyMkuF7nsips"
   },
   "outputs": [],
   "source": [
    "import keras\n",
    "from keras_svm.model_svm_wrapper import ModelSVMWrapper\n",
    "from keras import layers, models, backend\n",
    "from keras.datasets import mnist, fashion_mnist\n",
    "from keras.utils import to_categorical\n",
    "from keras.models import Model\n",
    "from keras.engine.topology import Layer\n",
    "import matplotlib.pyplot as plt\n",
    "from google.colab import files\n",
    "import pickle\n",
    "import json"
   ]
  },
  {
   "cell_type": "code",
   "execution_count": null,
   "metadata": {
    "colab": {
     "autoexec": {
      "startup": false,
      "wait_interval": 0
     }
    },
    "colab_type": "code",
    "id": "LGqkiYtkCPnY"
   },
   "outputs": [],
   "source": [
    "(train_images, train_labels), (test_images, test_labels) = \\\n",
    "    fashion_mnist.load_data() \n",
    "    # or mnist.load_data()\n",
    "\n",
    "train_images = train_images.reshape((60000, 28, 28, 1))\n",
    "train_images = train_images.astype('float32') / 255\n",
    "\n",
    "test_images = test_images.reshape((10000, 28, 28, 1))\n",
    "test_images = test_images.astype('float32') / 255"
   ]
  },
  {
   "cell_type": "markdown",
   "metadata": {
    "colab_type": "text",
    "id": "V7oJ5coGo7Oe"
   },
   "source": [
    "# Build a generic CNN\n",
    "\n",
    "----\n",
    "(based on https://github.com/fchollet/deep-learning-with-python-notebooks)\n",
    "\n",
    "Creating a simple CNN with three convolutional layers."
   ]
  },
  {
   "cell_type": "code",
   "execution_count": null,
   "metadata": {
    "colab": {
     "autoexec": {
      "startup": false,
      "wait_interval": 0
     }
    },
    "colab_type": "code",
    "id": "0wmrpcg2o7Oe"
   },
   "outputs": [],
   "source": [
    "def build_model():\n",
    "  model = models.Sequential()\n",
    "  model.add(layers.Conv2D(32, (3, 3), activation='relu', input_shape=(28, 28, 1)))\n",
    "  model.add(layers.MaxPooling2D((2, 2)))\n",
    "  model.add(layers.Conv2D(64, (3, 3), activation='relu'))\n",
    "  model.add(layers.MaxPooling2D((2, 2)))\n",
    "  model.add(layers.Conv2D(64, (3, 3), activation='relu'))\n",
    "  model.add(layers.Flatten())\n",
    "  \n",
    "  model.add(layers.Dense(64, activation='relu'))\n",
    "  model.add(layers.Dense(10, activation='softmax'))\n",
    "  model.compile(optimizer='rmsprop',\n",
    "              loss='categorical_crossentropy',\n",
    "              metrics=['accuracy'])\n",
    "  return model\n",
    "\n",
    "wrapper = ModelSVMWrapper(build_model())"
   ]
  },
  {
   "cell_type": "markdown",
   "metadata": {
    "colab_type": "text",
    "id": "d6LQYxH4o7Oh"
   },
   "source": [
    "Let's display the architecture of our convnet so far:"
   ]
  },
  {
   "cell_type": "code",
   "execution_count": 21,
   "metadata": {
    "colab": {
     "autoexec": {
      "startup": false,
      "wait_interval": 0
     },
     "base_uri": "https://localhost:8080/",
     "height": 408
    },
    "colab_type": "code",
    "executionInfo": {
     "elapsed": 417,
     "status": "ok",
     "timestamp": 1525036629639,
     "user": {
      "displayName": "Daan Luttik",
      "photoUrl": "//lh3.googleusercontent.com/-CPv5nanSWKo/AAAAAAAAAAI/AAAAAAAAE3I/gkG30GZ_TJs/s50-c-k-no/photo.jpg",
      "userId": "106328974539959585216"
     },
     "user_tz": -120
    },
    "id": "7UaZvzRyzUIo",
    "outputId": "b2f985ce-274b-4235-fed2-9ba088be73de"
   },
   "outputs": [
    {
     "name": "stdout",
     "output_type": "stream",
     "text": [
      "_________________________________________________________________\n",
      "Layer (type)                 Output Shape              Param #   \n",
      "=================================================================\n",
      "conv2d_19 (Conv2D)           (None, 26, 26, 32)        320       \n",
      "_________________________________________________________________\n",
      "max_pooling2d_13 (MaxPooling (None, 13, 13, 32)        0         \n",
      "_________________________________________________________________\n",
      "conv2d_20 (Conv2D)           (None, 11, 11, 64)        18496     \n",
      "_________________________________________________________________\n",
      "max_pooling2d_14 (MaxPooling (None, 5, 5, 64)          0         \n",
      "_________________________________________________________________\n",
      "conv2d_21 (Conv2D)           (None, 3, 3, 64)          36928     \n",
      "_________________________________________________________________\n",
      "flatten_7 (Flatten)          (None, 576)               0         \n",
      "_________________________________________________________________\n",
      "dense_13 (Dense)             (None, 64)                36928     \n",
      "_________________________________________________________________\n",
      "dense_14 (Dense)             (None, 10)                650       \n",
      "=================================================================\n",
      "Total params: 93,322\n",
      "Trainable params: 93,322\n",
      "Non-trainable params: 0\n",
      "_________________________________________________________________\n"
     ]
    }
   ],
   "source": [
    "wrapper.model.summary()"
   ]
  },
  {
   "cell_type": "markdown",
   "metadata": {
    "colab_type": "text",
    "id": "XRy9LUEio7Os"
   },
   "source": [
    "Prepare the data for the CNN"
   ]
  },
  {
   "cell_type": "markdown",
   "metadata": {
    "colab_type": "text",
    "id": "9F7NHlli9nq6"
   },
   "source": [
    "Train model and store intermediate test results"
   ]
  },
  {
   "cell_type": "code",
   "execution_count": 22,
   "metadata": {
    "colab": {
     "autoexec": {
      "startup": false,
      "wait_interval": 0
     },
     "base_uri": "https://localhost:8080/",
     "height": 1244
    },
    "colab_type": "code",
    "executionInfo": {
     "elapsed": 3310064,
     "status": "ok",
     "timestamp": 1525039939835,
     "user": {
      "displayName": "Daan Luttik",
      "photoUrl": "//lh3.googleusercontent.com/-CPv5nanSWKo/AAAAAAAAAAI/AAAAAAAAE3I/gkG30GZ_TJs/s50-c-k-no/photo.jpg",
      "userId": "106328974539959585216"
     },
     "user_tz": -120
    },
    "id": "UyLwib_Jo7Ow",
    "outputId": "4ccc51a5-f194-474a-cad9-be204e8982d6"
   },
   "outputs": [
    {
     "name": "stdout",
     "output_type": "stream",
     "text": [
      "Starting epoch: 1\n",
      "Epoch 1/1\n",
      "60000/60000 [==============================] - 12s 195us/step - loss: 0.5336 - acc: 0.8041\n",
      "10000/10000 [==============================] - 1s 88us/step\n",
      "10000/10000 [==============================] - 1s 131us/step\n",
      "10000/10000 [==============================] - 1s 94us/step\n",
      "{'with_svm@-2': [0.8876], 'with_svm@-3': [0.8999], 'without_svm': [0.8667]}\n",
      "Starting epoch: 2\n",
      "Epoch 1/1\n",
      "38912/60000 [==================>...........] - ETA: 3s - loss: 0.3295 - acc: 0.880160000/60000 [==============================] - 11s 187us/step - loss: 0.3198 - acc: 0.8834\n",
      "10000/10000 [==============================] - 1s 91us/step\n",
      "10000/10000 [==============================] - 1s 123us/step\n",
      "10000/10000 [==============================] - 1s 91us/step\n",
      "{'with_svm@-2': [0.8876, 0.8992], 'with_svm@-3': [0.8999, 0.9046], 'without_svm': [0.8667, 0.8758]}\n",
      "Starting epoch: 3\n",
      "Epoch 1/1\n",
      "51008/60000 [========================>.....] - ETA: 1s - loss: 0.2726 - acc: 0.900660000/60000 [==============================] - 11s 187us/step - loss: 0.2725 - acc: 0.9010\n",
      "10000/10000 [==============================] - 1s 89us/step\n",
      "10000/10000 [==============================] - 1s 125us/step\n",
      "10000/10000 [==============================] - 1s 93us/step\n",
      "{'with_svm@-2': [0.8876, 0.8992, 0.9077], 'with_svm@-3': [0.8999, 0.9046, 0.9097], 'without_svm': [0.8667, 0.8758, 0.8939]}\n",
      "Starting epoch: 4\n",
      "Epoch 1/1\n",
      "50432/60000 [========================>.....] - ETA: 1s - loss: 0.2437 - acc: 0.911760000/60000 [==============================] - 11s 187us/step - loss: 0.2421 - acc: 0.9121\n",
      "10000/10000 [==============================] - 1s 95us/step\n",
      "10000/10000 [==============================] - 1s 118us/step\n",
      "10000/10000 [==============================] - 1s 94us/step\n",
      "{'with_svm@-2': [0.8876, 0.8992, 0.9077, 0.912], 'with_svm@-3': [0.8999, 0.9046, 0.9097, 0.9095], 'without_svm': [0.8667, 0.8758, 0.8939, 0.9006]}\n",
      "Starting epoch: 5\n",
      "Epoch 1/1\n",
      "47744/60000 [======================>.......] - ETA: 2s - loss: 0.2189 - acc: 0.919460000/60000 [==============================] - 11s 188us/step - loss: 0.2188 - acc: 0.9189\n",
      "10000/10000 [==============================] - 1s 89us/step\n",
      "10000/10000 [==============================] - 1s 121us/step\n",
      "10000/10000 [==============================] - 1s 95us/step\n",
      "{'with_svm@-2': [0.8876, 0.8992, 0.9077, 0.912, 0.9115], 'with_svm@-3': [0.8999, 0.9046, 0.9097, 0.9095, 0.9111], 'without_svm': [0.8667, 0.8758, 0.8939, 0.9006, 0.903]}\n",
      "Starting epoch: 6\n",
      "Epoch 1/1\n",
      "44928/60000 [=====================>........] - ETA: 2s - loss: 0.2001 - acc: 0.926360000/60000 [==============================] - 11s 189us/step - loss: 0.2015 - acc: 0.9258\n",
      "10000/10000 [==============================] - 1s 90us/step\n",
      "10000/10000 [==============================] - 1s 123us/step\n",
      "10000/10000 [==============================] - 1s 96us/step\n",
      "{'with_svm@-2': [0.8876, 0.8992, 0.9077, 0.912, 0.9115, 0.9109], 'with_svm@-3': [0.8999, 0.9046, 0.9097, 0.9095, 0.9111, 0.9115], 'without_svm': [0.8667, 0.8758, 0.8939, 0.9006, 0.903, 0.8985]}\n",
      "Starting epoch: 7\n",
      "Epoch 1/1\n",
      "41600/60000 [===================>..........] - ETA: 3s - loss: 0.1851 - acc: 0.932860000/60000 [==============================] - 12s 195us/step - loss: 0.1851 - acc: 0.9325\n",
      "10000/10000 [==============================] - 1s 96us/step\n",
      "10000/10000 [==============================] - 1s 120us/step\n",
      "10000/10000 [==============================] - 1s 96us/step\n",
      "{'with_svm@-2': [0.8876, 0.8992, 0.9077, 0.912, 0.9115, 0.9109, 0.9122], 'with_svm@-3': [0.8999, 0.9046, 0.9097, 0.9095, 0.9111, 0.9115, 0.9116], 'without_svm': [0.8667, 0.8758, 0.8939, 0.9006, 0.903, 0.8985, 0.9041]}\n",
      "Starting epoch: 8\n",
      "Epoch 1/1\n",
      "40576/60000 [===================>..........] - ETA: 3s - loss: 0.1695 - acc: 0.938060000/60000 [==============================] - 11s 190us/step - loss: 0.1727 - acc: 0.9371\n",
      "10000/10000 [==============================] - 1s 91us/step\n",
      "10000/10000 [==============================] - 1s 123us/step\n",
      "10000/10000 [==============================] - 1s 97us/step\n",
      "{'with_svm@-2': [0.8876, 0.8992, 0.9077, 0.912, 0.9115, 0.9109, 0.9122, 0.9145], 'with_svm@-3': [0.8999, 0.9046, 0.9097, 0.9095, 0.9111, 0.9115, 0.9116, 0.912], 'without_svm': [0.8667, 0.8758, 0.8939, 0.9006, 0.903, 0.8985, 0.9041, 0.9062]}\n",
      "Starting epoch: 9\n",
      "Epoch 1/1\n",
      "38912/60000 [==================>...........] - ETA: 3s - loss: 0.1588 - acc: 0.940760000/60000 [==============================] - 11s 188us/step - loss: 0.1580 - acc: 0.9412\n",
      "10000/10000 [==============================] - 1s 91us/step\n",
      "10000/10000 [==============================] - 1s 121us/step\n",
      "10000/10000 [==============================] - 1s 95us/step\n",
      "{'with_svm@-2': [0.8876, 0.8992, 0.9077, 0.912, 0.9115, 0.9109, 0.9122, 0.9145, 0.9122], 'with_svm@-3': [0.8999, 0.9046, 0.9097, 0.9095, 0.9111, 0.9115, 0.9116, 0.912, 0.9121], 'without_svm': [0.8667, 0.8758, 0.8939, 0.9006, 0.903, 0.8985, 0.9041, 0.9062, 0.8882]}\n",
      "Starting epoch: 10\n",
      "Epoch 1/1\n",
      "37568/60000 [=================>............] - ETA: 4s - loss: 0.1453 - acc: 0.946360000/60000 [==============================] - 11s 187us/step - loss: 0.1467 - acc: 0.9462\n",
      "10000/10000 [==============================] - 1s 93us/step\n",
      "10000/10000 [==============================] - 1s 122us/step\n",
      "10000/10000 [==============================] - 1s 100us/step\n",
      "{'with_svm@-2': [0.8876, 0.8992, 0.9077, 0.912, 0.9115, 0.9109, 0.9122, 0.9145, 0.9122, 0.9123], 'with_svm@-3': [0.8999, 0.9046, 0.9097, 0.9095, 0.9111, 0.9115, 0.9116, 0.912, 0.9121, 0.9109], 'without_svm': [0.8667, 0.8758, 0.8939, 0.9006, 0.903, 0.8985, 0.9041, 0.9062, 0.8882, 0.9062]}\n",
      "performance4.json\n"
     ]
    }
   ],
   "source": [
    "for j in range(5): \n",
    "  wrapper = ModelSVMWrapper(build_model())\n",
    "\n",
    "  epochs = 10\n",
    "  performance = {\n",
    "        \"with_svm@-2\": [],\n",
    "        \"with_svm@-3\": [],\n",
    "        \"without_svm\": []\n",
    "    }\n",
    "  for i in range(epochs):\n",
    "    print('Starting epoch: {}'.format(i + 1))\n",
    "    wrapper.fit(train_images, train_labels, epochs=1, batch_size=64)\n",
    "    performance[\"with_svm@-3\"].append(wrapper.evaluate(test_images, test_labels))\n",
    "    performance[\"without_svm\"].append(\n",
    "        wrapper.model.evaluate(test_images, to_categorical(test_labels))[1])\n",
    "\n",
    "    # Try it for the different SVM\n",
    "    wrapper.fit_svm(train_images, train_labels, wrapper.model.layers[-2])\n",
    "    performance[\"with_svm@-2\"].append(wrapper.evaluate(test_images, test_labels))\n",
    "    \n",
    "    print(performance)\n",
    "  filename = 'performance{}.json'.format(j)\n",
    "  print(filename)\n",
    "  with  open(filename, 'w') as file:\n",
    "    json.dump(performance, file)"
   ]
  },
  {
   "cell_type": "code",
   "execution_count": null,
   "metadata": {
    "colab": {
     "autoexec": {
      "startup": false,
      "wait_interval": 0
     }
    },
    "colab_type": "code",
    "id": "GZFCd5D5dGPy"
   },
   "outputs": [],
   "source": [
    "for j in range(5): \n",
    "  filename = 'performance{}.json'.format(j)\n",
    "  files.download(filename)"
   ]
  }
 ],
 "metadata": {
  "accelerator": "GPU",
  "colab": {
   "collapsed_sections": [],
   "default_view": {},
   "name": "Deep Learning Paper",
   "provenance": [],
   "toc_visible": true,
   "version": "0.3.2",
   "views": {}
  },
  "kernelspec": {
   "display_name": "Python 3",
   "language": "python",
   "name": "python3"
  },
  "language_info": {
   "codemirror_mode": {
    "name": "ipython",
    "version": 3
   },
   "file_extension": ".py",
   "mimetype": "text/x-python",
   "name": "python",
   "nbconvert_exporter": "python",
   "pygments_lexer": "ipython3",
   "version": "3.6.4"
  }
 },
 "nbformat": 4,
 "nbformat_minor": 2
}
